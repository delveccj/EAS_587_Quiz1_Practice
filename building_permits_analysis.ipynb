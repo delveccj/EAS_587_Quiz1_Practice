{
 "cells": [
  {
   "cell_type": "markdown",
   "id": "1",
   "metadata": {},
   "source": [
    "# EAS 587 Quiz 1 Practice - Building Permits Analysis\n",
    "\n",
    "This notebook provides practice for Quiz 1 focusing on data analysis and K-means clustering techniques.\n",
    "\n",
    "**Time Target: 20 minutes**\n",
    "\n",
    "## Dataset\n",
    "Buffalo building permits data from 2015 to present, containing information about:\n",
    "- Permit types (electrical, plumbing, heating, construction, etc.)\n",
    "- Geographic locations\n",
    "- Fees and work values\n",
    "- Contractor information\n",
    "- Neighborhoods and districts"
   ]
  },
  {
   "cell_type": "code",
   "execution_count": null,
   "id": "2",
   "metadata": {},
   "outputs": [],
   "source": [
    "# Import necessary libraries\n",
    "import pandas as pd\n",
    "import numpy as np\n",
    "import matplotlib.pyplot as plt\n",
    "import seaborn as sns\n",
    "from sklearn.cluster import KMeans\n",
    "from sklearn.preprocessing import StandardScaler\n",
    "from sklearn.decomposition import PCA\n",
    "\n",
    "# Set display options\n",
    "pd.set_option('display.max_columns', None)\n",
    "plt.style.use('default')"
   ]
  },
  {
   "cell_type": "code",
   "execution_count": null,
   "id": "3",
   "metadata": {},
   "outputs": [],
   "source": [
    "# Load the dataset\n",
    "url = 'https://raw.githubusercontent.com/delveccj/EAS_587_Quiz1_Practice/main/data/permits_2015_present.csv'\n",
    "df = pd.read_csv(url)\n",
    "\n",
    "print(f\"Dataset shape: {df.shape}\")\n",
    "df.head()"
   ]
  },
  {
   "cell_type": "markdown",
   "id": "xeu95ffyd7",
   "source": "## Quiz Questions\n\nComplete the following questions by writing code in the cells below each question.",
   "metadata": {}
  },
  {
   "cell_type": "markdown",
   "id": "0s6vljp2dz1r",
   "source": "🔍 **Question 1:** Show the shape of this dataframe",
   "metadata": {}
  },
  {
   "cell_type": "code",
   "id": "ybbpujkvye",
   "source": "# Answer",
   "metadata": {},
   "execution_count": null,
   "outputs": []
  },
  {
   "cell_type": "markdown",
   "id": "nk37ysbbxn",
   "source": "🔍 **Question 2:** Display the first 10 rows",
   "metadata": {}
  },
  {
   "cell_type": "code",
   "id": "y561tpiuf9o",
   "source": "# Answer",
   "metadata": {},
   "execution_count": null,
   "outputs": []
  },
  {
   "cell_type": "markdown",
   "id": "4vposa7u6yx",
   "source": "🔍 **Question 3:** Check for missing values in the dataset. Display the count of missing values and percentage missing for each column that has missing data. Format the output as a DataFrame with columns 'Missing Count' and 'Missing Percentage'.",
   "metadata": {}
  },
  {
   "cell_type": "code",
   "id": "h3pt81zuti5",
   "source": "# Answer",
   "metadata": {},
   "execution_count": null,
   "outputs": []
  },
  {
   "cell_type": "markdown",
   "id": "suqhdhjj6qf",
   "source": "🔍 **Question 4:** Drop columns that are missing more than 90% of their data",
   "metadata": {}
  },
  {
   "cell_type": "code",
   "id": "8k0ncg7854n",
   "source": "# Answer",
   "metadata": {},
   "execution_count": null,
   "outputs": []
  },
  {
   "cell_type": "markdown",
   "id": "gu0solhaoxh",
   "source": "🔍 **Question 5:** Remove rows where both Latitude and Longitude are missing (since we'll need coordinates for clustering)",
   "metadata": {}
  },
  {
   "cell_type": "code",
   "id": "aeeou92gsq8",
   "source": "# Answer",
   "metadata": {},
   "execution_count": null,
   "outputs": []
  },
  {
   "cell_type": "markdown",
   "id": "dex07l7n3o",
   "source": "🔍 **Question 6:** Look at the Fees column. What data cleaning operation do you think needs to be performed? Apply that operation.",
   "metadata": {}
  },
  {
   "cell_type": "code",
   "id": "k908y4m0d9o",
   "source": "# Answer",
   "metadata": {},
   "execution_count": null,
   "outputs": []
  },
  {
   "cell_type": "markdown",
   "id": "8q8ucpk7y9v",
   "source": "🔍 **Question 7:** Based on Question 6 - what other column would you need to clean as well? Go ahead and clean it now.",
   "metadata": {}
  },
  {
   "cell_type": "code",
   "id": "0lrbbddlpxf",
   "source": "# Answer",
   "metadata": {},
   "execution_count": null,
   "outputs": []
  },
  {
   "cell_type": "markdown",
   "id": "d8wu8qn34gr",
   "source": "🔍 **Question 8:** Create tabular histogram counts that show the number of permits in ranges: '$0-1K', '$1K-5K', '$5K-25K', '$25K-100K', '$100K-500K', '$500K+'",
   "metadata": {}
  },
  {
   "cell_type": "code",
   "id": "kz9wrts5c7",
   "source": "# Answer",
   "metadata": {},
   "execution_count": null,
   "outputs": []
  },
  {
   "cell_type": "markdown",
   "id": "ug8pmschhf",
   "source": "🔍 **Question 9:** Create a new dataframe called `df_kmeans` for clustering analysis. Remove permits with Value of Work over $500,000 and keep only rows where Value of Work and Fees are not null.",
   "metadata": {}
  },
  {
   "cell_type": "code",
   "id": "kqgucpoy8yd",
   "source": "# Answer",
   "metadata": {},
   "execution_count": null,
   "outputs": []
  },
  {
   "cell_type": "markdown",
   "id": "0klpdkwo8trn",
   "source": "🔍 **Question 10:** Perform an elbow analysis to determine the optimal number of clusters for contractor and Value of Work clustering. Plot the Within-Cluster Sum of Squares (WCSS) for k values from 1 to 10 using Value of Work and Contractor License Number as features.",
   "metadata": {}
  },
  {
   "cell_type": "code",
   "id": "xoy6y9j70y",
   "source": "# Answer",
   "metadata": {},
   "execution_count": null,
   "outputs": []
  },
  {
   "cell_type": "markdown",
   "id": "yl7om807ym",
   "source": "🔍 **Question 11:** Based on your elbow analysis, perform K-means clustering using Value of Work and Contractor License Number. Use the optimal number of clusters from Question 10 and provide a detailed analysis showing the characteristics of each cluster (average values, top contractors, license types).",
   "metadata": {}
  },
  {
   "cell_type": "code",
   "id": "kl0l5edisg",
   "source": "# Answer",
   "metadata": {},
   "execution_count": null,
   "outputs": []
  }
 ],
 "metadata": {
  "kernelspec": {
   "display_name": "Python 3",
   "language": "python",
   "name": "python3"
  },
  "language_info": {
   "codemirror_mode": {
    "name": "ipython",
    "version": 3
   },
   "file_extension": ".py",
   "mimetype": "text/x-python",
   "name": "python",
   "nbconvert_exporter": "python",
   "pygments_lexer": "ipython3",
   "version": "3.8.5"
  }
 },
 "nbformat": 4,
 "nbformat_minor": 5
}